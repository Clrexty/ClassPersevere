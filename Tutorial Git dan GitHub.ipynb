{
 "cells": [
  {
   "cell_type": "markdown",
   "id": "fbed27fe",
   "metadata": {},
   "source": [
    "## inisialisasi direktori git"
   ]
  },
  {
   "cell_type": "markdown",
   "id": "e89f42da",
   "metadata": {},
   "source": [
    "$ git init\n",
    "$ "
   ]
  },
  {
   "cell_type": "markdown",
   "id": "d6953ced",
   "metadata": {},
   "source": [
    "## Bikin Token untuk push ke akun github\n",
    "https://docs.github.com/en/authentication/keeping-your-account-and-data-secure/creating-a-personal-access-token"
   ]
  },
  {
   "cell_type": "code",
   "execution_count": null,
   "id": "d84e3209",
   "metadata": {},
   "outputs": [],
   "source": []
  }
 ],
 "metadata": {
  "kernelspec": {
   "display_name": "Python 3 (ipykernel)",
   "language": "python",
   "name": "python3"
  },
  "language_info": {
   "codemirror_mode": {
    "name": "ipython",
    "version": 3
   },
   "file_extension": ".py",
   "mimetype": "text/x-python",
   "name": "python",
   "nbconvert_exporter": "python",
   "pygments_lexer": "ipython3",
   "version": "3.8.10"
  }
 },
 "nbformat": 4,
 "nbformat_minor": 5
}
